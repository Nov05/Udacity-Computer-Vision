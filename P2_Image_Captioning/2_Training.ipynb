{
 "cells": [
  {
   "cell_type": "code",
   "execution_count": 0,
   "metadata": {
    "colab": {},
    "colab_type": "code",
    "id": "TVFHsqCqPPxd"
   },
   "outputs": [],
   "source": [
    "# modified on 2020-02-27"
   ]
  },
  {
   "cell_type": "code",
   "execution_count": 0,
   "metadata": {
    "colab": {},
    "colab_type": "code",
    "id": "mVEPVL2gPWYY"
   },
   "outputs": [],
   "source": [
    "# from google.colab import drive\n",
    "# drive.mount('/content/drive')"
   ]
  },
  {
   "cell_type": "code",
   "execution_count": 1,
   "metadata": {
    "colab": {
     "base_uri": "https://localhost:8080/",
     "height": 35
    },
    "colab_type": "code",
    "executionInfo": {
     "elapsed": 394,
     "status": "ok",
     "timestamp": 1583457520844,
     "user": {
      "displayName": "Wenjing Liu",
      "photoUrl": "https://lh3.googleusercontent.com/a-/AOh14GgX35SpfU5NlXqEK0YQgaqlAm3udJx3EgFu-jBM=s64",
      "userId": "16067106733028664591"
     },
     "user_tz": 360
    },
    "id": "60dwYcD4Kf7c",
    "outputId": "b31e9b60-30b4-4b9f-c3c4-6d9dd5cb1f36"
   },
   "outputs": [
    {
     "data": {
      "text/plain": [
       "True"
      ]
     },
     "execution_count": 1,
     "metadata": {},
     "output_type": "execute_result"
    }
   ],
   "source": [
    "import torch\n",
    "torch.cuda.is_available()"
   ]
  },
  {
   "cell_type": "markdown",
   "metadata": {
    "colab_type": "text",
    "id": "BDfS3DcgMDns"
   },
   "source": [
    "# Computer Vision Nanodegree\n",
    "\n",
    "## Project: Image Captioning\n",
    "\n",
    "---\n",
    "\n",
    "In this notebook, you will train your CNN-RNN model.  \n",
    "\n",
    "You are welcome and encouraged to try out many different architectures and hyperparameters when searching for a good model.\n",
    "\n",
    "This does have the potential to make the project quite messy!  Before submitting your project, make sure that you clean up:\n",
    "- the code you write in this notebook.  The notebook should describe how to train a single CNN-RNN architecture, corresponding to your final choice of hyperparameters.  You should structure the notebook so that the reviewer can replicate your results by running the code in this notebook.  \n",
    "- the output of the code cell in **Step 2**.  The output should show the output obtained when training the model from scratch.\n",
    "\n",
    "This notebook **will be graded**.  \n",
    "\n",
    "Feel free to use the links below to navigate the notebook:\n",
    "- [Step 1](#step1): Training Setup\n",
    "- [Step 2](#step2): Train your Model\n",
    "- [Step 3](#step3): (Optional) Validate your Model"
   ]
  },
  {
   "cell_type": "markdown",
   "metadata": {
    "colab_type": "text",
    "id": "Lz3ETUbpMDnu"
   },
   "source": [
    "<a id='step1'></a>\n",
    "## Step 1: Training Setup\n",
    "\n",
    "In this step of the notebook, you will customize the training of your CNN-RNN model by specifying hyperparameters and setting other options that are important to the training procedure.  The values you set now will be used when training your model in **Step 2** below.\n",
    "\n",
    "You should only amend blocks of code that are preceded by a `TODO` statement.  **Any code blocks that are not preceded by a `TODO` statement should not be modified**.\n",
    "\n",
    "### Task #1\n",
    "\n",
    "Begin by setting the following variables:\n",
    "- `batch_size` - the batch size of each training batch.  It is the number of image-caption pairs used to amend the model weights in each training step. \n",
    "- `vocab_threshold` - the minimum word count threshold.  Note that a larger threshold will result in a smaller vocabulary, whereas a smaller threshold will include rarer words and result in a larger vocabulary.  \n",
    "- `vocab_from_file` - a Boolean that decides whether to load the vocabulary from file. \n",
    "- `embed_size` - the dimensionality of the image and word embeddings.  \n",
    "- `hidden_size` - the number of features in the hidden state of the RNN decoder.  \n",
    "- `num_epochs` - the number of epochs to train the model.  We recommend that you set `num_epochs=3`, but feel free to increase or decrease this number as you wish.  [This paper](https://arxiv.org/pdf/1502.03044.pdf) trained a captioning model on a single state-of-the-art GPU for 3 days, but you'll soon see that you can get reasonable results in a matter of a few hours!  (_But of course, if you want your model to compete with current research, you will have to train for much longer._)\n",
    "- `save_every` - determines how often to save the model weights.  We recommend that you set `save_every=1`, to save the model weights after each epoch.  This way, after the `i`th epoch, the encoder and decoder weights will be saved in the `models/` folder as `encoder-i.pkl` and `decoder-i.pkl`, respectively.\n",
    "- `print_every` - determines how often to print the batch loss to the Jupyter notebook while training.  Note that you **will not** observe a monotonic decrease in the loss function while training - this is perfectly fine and completely expected!  You are encouraged to keep this at its default value of `100` to avoid clogging the notebook, but feel free to change it.\n",
    "- `log_file` - the name of the text file containing - for every step - how the loss and perplexity evolved during training.\n",
    "\n",
    "If you're not sure where to begin to set some of the values above, you can peruse [this paper](https://arxiv.org/pdf/1502.03044.pdf) and [this paper](https://arxiv.org/pdf/1411.4555.pdf) for useful guidance!  **To avoid spending too long on this notebook**, you are encouraged to consult these suggested research papers to obtain a strong initial guess for which hyperparameters are likely to work best.  Then, train a single model, and proceed to the next notebook (**3_Inference.ipynb**).  If you are unhappy with your performance, you can return to this notebook to tweak the hyperparameters (and/or the architecture in **model.py**) and re-train your model.\n",
    "\n",
    "### Question 1\n",
    "\n",
    "**Question:** Describe your CNN-RNN architecture in detail.  With this architecture in mind, how did you select the values of the variables in Task 1?  If you consulted a research paper detailing a successful implementation of an image captioning model, please provide the reference.\n",
    "\n",
    "**Answer:** \n",
    "1. The encoder is pretrained ResNet50 which can classify images into 1000 object categories. The decoder is a LTSM.\n",
    "2. For parameters I referred to Chapter 4.3.1 Training Details of this paper (https://arxiv.org/pdf/1411.4555.pdf): \"We trained all sets of weights using stochastic gradient descent with fixed learning rate and no momentum.\n",
    "All weights were randomly initialized except for the CNN\n",
    "weights, which we left unchanged because changing them\n",
    "had a negative impact. We used 512 dimensions for the embeddings and the size of the LSTM memory. Descriptions were preprocessed with basic tokenization,\n",
    "keeping all words that appeared at least 5 times in the training set.\"\n",
    "\n",
    "\n",
    "### (Optional) Task #2\n",
    "\n",
    "Note that we have provided a recommended image transform `transform_train` for pre-processing the training images, but you are welcome (and encouraged!) to modify it as you wish.  When modifying this transform, keep in mind that:\n",
    "- the images in the dataset have varying heights and widths, and \n",
    "- if using a pre-trained model, you must perform the corresponding appropriate normalization.\n",
    "\n",
    "### Question 2\n",
    "\n",
    "**Question:** How did you select the transform in `transform_train`?  If you left the transform at its provided value, why do you think that it is a good choice for your CNN architecture?\n",
    "\n",
    "**Answer:** Transform functions are usually used to reshape the images to fit to the input size of the model, to normalize the images to get better performance, to prevent overfitting. \n",
    "\n",
    "### Task #3\n",
    "\n",
    "Next, you will specify a Python list containing the learnable parameters of the model.  For instance, if you decide to make all weights in the decoder trainable, but only want to train the weights in the embedding layer of the encoder, then you should set `params` to something like:\n",
    "```\n",
    "params = list(decoder.parameters()) + list(encoder.embed.parameters()) \n",
    "```\n",
    "\n",
    "### Question 3\n",
    "\n",
    "**Question:** How did you select the trainable parameters of your architecture?  Why do you think this is a good choice?\n",
    "\n",
    "**Answer:** I chose to train all parameters of the decoder and only the parameters of the embedding layer of the encoder. Cause the encoder is a pretrained model, which doesn't require more training. However the whole decoder needs to be trained to output a proper sequence.\n",
    "\n",
    "### Task #4\n",
    "\n",
    "Finally, you will select an [optimizer](http://pytorch.org/docs/master/optim.html#torch.optim.Optimizer).\n",
    "\n",
    "### Question 4\n",
    "\n",
    "**Question:** How did you select the optimizer used to train your model?\n",
    "\n",
    "**Answer:** SGD usually performs well, also the paper that I referred to used SGD too."
   ]
  },
  {
   "cell_type": "markdown",
   "metadata": {
    "colab_type": "text",
    "id": "I1EDlHwaRLFo"
   },
   "source": [
    "1. Show, Attend and Tell: Neural Image Caption Generation with Visual Attention    \n",
    "https://arxiv.org/pdf/1502.03044.pdf    \n",
    "\n",
    "2. NLP FROM SCRATCH: TRANSLATION WITH A SEQUENCE TO SEQUENCE NETWORK AND ATTENTIO  \n",
    "https://pytorch.org/tutorials/intermediate/seq2seq_translation_tutorial.html   \n"
   ]
  },
  {
   "cell_type": "code",
   "execution_count": 2,
   "metadata": {
    "colab": {
     "base_uri": "https://localhost:8080/",
     "height": 193
    },
    "colab_type": "code",
    "executionInfo": {
     "elapsed": 50292,
     "status": "ok",
     "timestamp": 1583453470055,
     "user": {
      "displayName": "Wenjing Liu",
      "photoUrl": "https://lh3.googleusercontent.com/a-/AOh14GgX35SpfU5NlXqEK0YQgaqlAm3udJx3EgFu-jBM=s64",
      "userId": "16067106733028664591"
     },
     "user_tz": 360
    },
    "id": "He86tJGxMDnv",
    "outputId": "850b68c5-1ecf-4e19-9ebc-4b81c5922286"
   },
   "outputs": [
    {
     "name": "stderr",
     "output_type": "stream",
     "text": [
      "[nltk_data] Downloading package punkt to\n",
      "[nltk_data]     C:\\Users\\guido\\AppData\\Roaming\\nltk_data...\n",
      "[nltk_data]   Package punkt is already up-to-date!\n"
     ]
    },
    {
     "name": "stdout",
     "output_type": "stream",
     "text": [
      "loading annotations into memory...\n",
      "Done (t=1.27s)\n",
      "creating index...\n",
      "index created!\n",
      "[0/414113] Tokenizing captions...\n",
      "[100000/414113] Tokenizing captions...\n",
      "[200000/414113] Tokenizing captions...\n",
      "[300000/414113] Tokenizing captions...\n",
      "[400000/414113] Tokenizing captions...\n",
      "loading annotations into memory...\n",
      "Done (t=0.74s)\n",
      "creating index...\n"
     ]
    },
    {
     "name": "stderr",
     "output_type": "stream",
     "text": [
      "  0%|▏                                                                          | 963/414113 [00:00<00:43, 9563.57it/s]"
     ]
    },
    {
     "name": "stdout",
     "output_type": "stream",
     "text": [
      "index created!\n",
      "Obtaining caption lengths...\n"
     ]
    },
    {
     "name": "stderr",
     "output_type": "stream",
     "text": [
      "100%|████████████████████████████████████████████████████████████████████████| 414113/414113 [00:49<00:00, 8433.87it/s]\n"
     ]
    }
   ],
   "source": [
    "# %cd /content/drive/My Drive/Udacity/2020-02-05 Computer Vision/CVND---Image-Captioning-Project\n",
    "import torch\n",
    "import torch.nn as nn\n",
    "import torch.optim as optim\n",
    "from torchvision import transforms\n",
    "import sys\n",
    "# sys.path.append('/opt/cocoapi/PythonAPI') # Linux\n",
    "# sys.path.append('/content/drive/My Drive/data/cocoapi/PythonAPI') # Google Colab\n",
    "sys.path.append('D:\\data\\cocoapi\\PythonAPI') # Windows\n",
    "from pycocotools.coco import COCO\n",
    "from data_loader import get_loader\n",
    "from model import EncoderCNN, DecoderRNN\n",
    "import math\n",
    "import nltk\n",
    "nltk.download('punkt')\n",
    "\n",
    "\n",
    "## TODO #1: Select appropriate values for the Python variables below.\n",
    "batch_size = 64            # batch size\n",
    "vocab_threshold = 5        # minimum word count threshold\n",
    "vocab_from_file = False     # if True, load existing vocab file\n",
    "embed_size = 256           # dimensionality of image and word embeddings\n",
    "hidden_size = 512          # number of features in hidden state of the RNN decoder\n",
    "num_epochs = 1             # number of training epochs\n",
    "save_every = 500           # determines frequency of saving model weights\n",
    "print_every = 100          # determines window for printing average loss\n",
    "log_file = 'training_log.txt'      # name of file with saved training loss and perplexity\n",
    "# cocoapi_loc = '/content/drive/My Drive/data' # Google Colab\n",
    "cocoapi_loc = 'D:\\data' # Windows\n",
    "\n",
    "# (Optional) TODO #2: Amend the image transform below.\n",
    "transform_train = transforms.Compose([ \n",
    "    transforms.Resize(256),                          # smaller edge of image resized to 256\n",
    "    transforms.RandomCrop(224),                      # get 224x224 crop from random location\n",
    "    transforms.RandomHorizontalFlip(),               # horizontally flip image with probability=0.5\n",
    "    transforms.ToTensor(),                           # convert the PIL Image to a tensor\n",
    "    transforms.Normalize((0.485, 0.456, 0.406),      # normalize image for pre-trained model\n",
    "                         (0.229, 0.224, 0.225))])\n",
    "\n",
    "# Build data loader.\n",
    "data_loader = get_loader(transform=transform_train,\n",
    "                         mode='train',\n",
    "                         batch_size=batch_size,\n",
    "                         vocab_threshold=vocab_threshold,\n",
    "                         vocab_from_file=vocab_from_file,\n",
    "                         cocoapi_loc=cocoapi_loc)\n",
    "\n",
    "# The size of the vocabulary.\n",
    "vocab_size = len(data_loader.dataset.vocab)\n",
    "\n",
    "# Initialize the encoder and decoder. \n",
    "encoder = EncoderCNN(embed_size)\n",
    "decoder = DecoderRNN(embed_size, hidden_size, vocab_size)\n",
    "\n",
    "# Move models to GPU if CUDA is available. \n",
    "device = torch.device(\"cuda\" if torch.cuda.is_available() else \"cpu\")\n",
    "encoder.to(device)\n",
    "decoder.to(device)\n",
    "\n",
    "# Define the loss function. \n",
    "criterion = nn.CrossEntropyLoss().cuda() if torch.cuda.is_available() else nn.CrossEntropyLoss()\n",
    "\n",
    "# TODO #3: Specify the learnable parameters of the model.\n",
    "params = list(decoder.parameters()) + list(encoder.embed.parameters()) \n",
    "\n",
    "# TODO #4: Define the optimizer.\n",
    "optimizer = optim.SGD(decoder.parameters(), lr=0.1)\n",
    "\n",
    "# Set the total number of training steps per epoch.\n",
    "# 6471 = ceil(414113 / 64)\n",
    "total_step = math.ceil(len(data_loader.dataset.caption_lengths) / data_loader.batch_sampler.batch_size)"
   ]
  },
  {
   "cell_type": "markdown",
   "metadata": {
    "colab_type": "text",
    "id": "Pk6UD2TpMDny"
   },
   "source": [
    "<a id='step2'></a>\n",
    "## Step 2: Train your Model\n",
    "\n",
    "Once you have executed the code cell in **Step 1**, the training procedure below should run without issue.  \n",
    "\n",
    "It is completely fine to leave the code cell below as-is without modifications to train your model.  However, if you would like to modify the code used to train the model below, you must ensure that your changes are easily parsed by your reviewer.  In other words, make sure to provide appropriate comments to describe how your code works!  \n",
    "\n",
    "You may find it useful to load saved weights to resume training.  In that case, note the names of the files containing the encoder and decoder weights that you'd like to load (`encoder_file` and `decoder_file`).  Then you can load the weights by using the lines below:\n",
    "\n",
    "```python\n",
    "# Load pre-trained weights before resuming training.\n",
    "encoder.load_state_dict(torch.load(os.path.join('./models', encoder_file)))\n",
    "decoder.load_state_dict(torch.load(os.path.join('./models', decoder_file)))\n",
    "```\n",
    "\n",
    "While trying out parameters, make sure to take extensive notes and record the settings that you used in your various training runs.  In particular, you don't want to encounter a situation where you've trained a model for several hours but can't remember what settings you used :).\n",
    "\n",
    "### A Note on Tuning Hyperparameters\n",
    "\n",
    "To figure out how well your model is doing, you can look at how the training loss and perplexity evolve during training - and for the purposes of this project, you are encouraged to amend the hyperparameters based on this information.  \n",
    "\n",
    "However, this will not tell you if your model is overfitting to the training data, and, unfortunately, overfitting is a problem that is commonly encountered when training image captioning models.  \n",
    "\n",
    "For this project, you need not worry about overfitting. **This project does not have strict requirements regarding the performance of your model**, and you just need to demonstrate that your model has learned **_something_** when you generate captions on the test data.  For now, we strongly encourage you to train your model for the suggested 3 epochs without worrying about performance; then, you should immediately transition to the next notebook in the sequence (**3_Inference.ipynb**) to see how your model performs on the test data.  If your model needs to be changed, you can come back to this notebook, amend hyperparameters (if necessary), and re-train the model.\n",
    "\n",
    "That said, if you would like to go above and beyond in this project, you can read about some approaches to minimizing overfitting in section 4.3.1 of [this paper](http://ieeexplore.ieee.org/stamp/stamp.jsp?arnumber=7505636).  In the next (optional) step of this notebook, we provide some guidance for assessing the performance on the validation dataset."
   ]
  },
  {
   "cell_type": "code",
   "execution_count": 5,
   "metadata": {
    "colab": {
     "base_uri": "https://localhost:8080/",
     "height": 440
    },
    "colab_type": "code",
    "executionInfo": {
     "elapsed": 2695,
     "status": "error",
     "timestamp": 1583457367642,
     "user": {
      "displayName": "Wenjing Liu",
      "photoUrl": "https://lh3.googleusercontent.com/a-/AOh14GgX35SpfU5NlXqEK0YQgaqlAm3udJx3EgFu-jBM=s64",
      "userId": "16067106733028664591"
     },
     "user_tz": 360
    },
    "id": "cMxOLX4BMDnz",
    "outputId": "1debb9e5-f1f7-4758-da70-5e6e3d6007f6"
   },
   "outputs": [
    {
     "name": "stdout",
     "output_type": "stream",
     "text": [
      "Trainig start time: 2020-03-05 23:01:13.299126\n",
      "Epoch [1/1], Step [100/6471], Loss: 6.9578, Perplexity: 1051.2864, Duration: 380.24107789993286\n",
      "Epoch [1/1], Step [200/6471], Loss: 6.0694, Perplexity: 432.4316, Duration: 270.2294247150421\n",
      "Epoch [1/1], Step [300/6471], Loss: 5.3079, Perplexity: 201.9219, Duration: 264.61820363998413\n",
      "Epoch [1/1], Step [400/6471], Loss: 5.0373, Perplexity: 154.0544, Duration: 275.3619248867035\n",
      "Epoch [1/1], Step [500/6471], Loss: 4.9625, Perplexity: 142.9494, Duration: 252.67621541023254\n",
      "Epoch [1/1], Step [600/6471], Loss: 4.9894, Perplexity: 146.8492, Duration: 453.1545469760895\n",
      "Epoch [1/1], Step [700/6471], Loss: 5.2308, Perplexity: 186.9412, Duration: 389.869069814682\n",
      "Epoch [1/1], Step [800/6471], Loss: 4.8440, Perplexity: 126.9727, Duration: 344.776113986969\n",
      "Epoch [1/1], Step [900/6471], Loss: 5.1428, Perplexity: 171.2004, Duration: 432.12371039390564\n",
      "Epoch [1/1], Step [1000/6471], Loss: 4.6701, Perplexity: 106.7085, Duration: 498.753484249115\n",
      "Epoch [1/1], Step [1100/6471], Loss: 4.8402, Perplexity: 126.4989, Duration: 496.0869379043579\n",
      "Epoch [1/1], Step [1200/6471], Loss: 4.8308, Perplexity: 125.3148, Duration: 268.43508887290955\n",
      "Epoch [1/1], Step [1300/6471], Loss: 4.4662, Perplexity: 87.0243, Duration: 258.79975032806396\n",
      "Epoch [1/1], Step [1400/6471], Loss: 4.9122, Perplexity: 135.9416, Duration: 261.3416578769684\n",
      "Epoch [1/1], Step [1500/6471], Loss: 5.0442, Perplexity: 155.1172, Duration: 256.03773832321167\n",
      "Epoch [1/1], Step [1600/6471], Loss: 4.4464, Perplexity: 85.3197, Duration: 270.1524670124054\n",
      "Epoch [1/1], Step [1700/6471], Loss: 4.9151, Perplexity: 136.3363, Duration: 262.26900911331177\n",
      "Epoch [1/1], Step [1800/6471], Loss: 4.4074, Perplexity: 82.0575, Duration: 263.8854944705963\n",
      "Epoch [1/1], Step [1900/6471], Loss: 4.4744, Perplexity: 87.7389, Duration: 271.70412373542786\n",
      "Epoch [1/1], Step [2000/6471], Loss: 4.4282, Perplexity: 83.7785, Duration: 270.11336612701416\n",
      "Epoch [1/1], Step [2100/6471], Loss: 4.7280, Perplexity: 113.0728, Duration: 256.7591278553009\n",
      "Epoch [1/1], Step [2200/6471], Loss: 4.5074, Perplexity: 90.6824, Duration: 515.9600999355316\n",
      "Epoch [1/1], Step [2300/6471], Loss: 4.4242, Perplexity: 83.4499, Duration: 655.8411161899567\n",
      "Epoch [1/1], Step [2400/6471], Loss: 4.8958, Perplexity: 133.7323, Duration: 731.7177546024323\n",
      "Epoch [1/1], Step [2500/6471], Loss: 4.7454, Perplexity: 115.0518, Duration: 735.1164667606354\n",
      "Epoch [1/1], Step [2600/6471], Loss: 4.6931, Perplexity: 109.1902, Duration: 654.5537083148956\n",
      "Epoch [1/1], Step [2700/6471], Loss: 4.3293, Perplexity: 75.8905, Duration: 649.5341241359711\n",
      "Epoch [1/1], Step [2800/6471], Loss: 4.4654, Perplexity: 86.9576, Duration: 667.6841909885406\n",
      "Epoch [1/1], Step [2900/6471], Loss: 4.5019, Perplexity: 90.1860, Duration: 655.724109172821\n",
      "Epoch [1/1], Step [3000/6471], Loss: 4.2396, Perplexity: 69.3772, Duration: 645.2855315208435\n",
      "Epoch [1/1], Step [3100/6471], Loss: 4.4342, Perplexity: 84.2841, Duration: 626.3362903594971\n",
      "Epoch [1/1], Step [3200/6471], Loss: 4.3941, Perplexity: 80.9690, Duration: 713.5230050086975\n",
      "Epoch [1/1], Step [3300/6471], Loss: 4.5330, Perplexity: 93.0400, Duration: 659.0144991874695\n",
      "Epoch [1/1], Step [3400/6471], Loss: 4.3164, Perplexity: 74.9219, Duration: 632.3628606796265\n",
      "Epoch [1/1], Step [3500/6471], Loss: 4.8633, Perplexity: 129.4500, Duration: 628.6092913150787\n",
      "Epoch [1/1], Step [3600/6471], Loss: 4.4216, Perplexity: 83.2263, Duration: 655.646491765976\n",
      "Epoch [1/1], Step [3700/6471], Loss: 4.2526, Perplexity: 70.2844, Duration: 652.8239154815674\n",
      "Epoch [1/1], Step [3800/6471], Loss: 4.4860, Perplexity: 88.7646, Duration: 640.0730772018433\n",
      "Epoch [1/1], Step [3900/6471], Loss: 4.3424, Perplexity: 76.8926, Duration: 611.6405141353607\n",
      "Epoch [1/1], Step [4000/6471], Loss: 4.2992, Perplexity: 73.6389, Duration: 580.4085083007812\n",
      "Epoch [1/1], Step [4100/6471], Loss: 4.3764, Perplexity: 79.5508, Duration: 588.0879225730896\n",
      "Epoch [1/1], Step [4200/6471], Loss: 4.2927, Perplexity: 73.1662, Duration: 588.9021573066711\n",
      "Epoch [1/1], Step [4300/6471], Loss: 4.6200, Perplexity: 101.4923, Duration: 535.3277010917664\n",
      "Epoch [1/1], Step [4400/6471], Loss: 4.5169, Perplexity: 91.5529, Duration: 242.56961965560913\n",
      "Epoch [1/1], Step [4500/6471], Loss: 4.4063, Perplexity: 81.9664, Duration: 241.62494158744812\n",
      "Epoch [1/1], Step [4600/6471], Loss: 4.1613, Perplexity: 64.1552, Duration: 235.40889763832092\n",
      "Epoch [1/1], Step [4700/6471], Loss: 4.8586, Perplexity: 128.8408, Duration: 239.40618991851807\n",
      "Epoch [1/1], Step [4800/6471], Loss: 4.4887, Perplexity: 89.0083, Duration: 243.42398023605347\n",
      "Epoch [1/1], Step [4900/6471], Loss: 4.5016, Perplexity: 90.1649, Duration: 258.937881231308\n",
      "Epoch [1/1], Step [5000/6471], Loss: 4.3571, Perplexity: 78.0309, Duration: 257.9274251461029\n",
      "Epoch [1/1], Step [5100/6471], Loss: 4.3463, Perplexity: 77.1928, Duration: 257.1912007331848\n",
      "Epoch [1/1], Step [5200/6471], Loss: 4.5561, Perplexity: 95.2121, Duration: 253.65374398231506\n",
      "Epoch [1/1], Step [5300/6471], Loss: 4.3280, Perplexity: 75.7934, Duration: 252.09022307395935\n",
      "Epoch [1/1], Step [5400/6471], Loss: 4.5472, Perplexity: 94.3700, Duration: 252.31731390953064\n",
      "Epoch [1/1], Step [5500/6471], Loss: 4.4842, Perplexity: 88.6100, Duration: 251.02876138687134\n",
      "Epoch [1/1], Step [5600/6471], Loss: 4.3495, Perplexity: 77.4431, Duration: 248.95092511177063\n",
      "Epoch [1/1], Step [5700/6471], Loss: 4.0863, Perplexity: 59.5197, Duration: 245.36535167694092\n",
      "Epoch [1/1], Step [5800/6471], Loss: 4.5617, Perplexity: 95.7466, Duration: 246.39612245559692\n",
      "Epoch [1/1], Step [5900/6471], Loss: 4.9710, Perplexity: 144.1654, Duration: 243.57275581359863\n",
      "Epoch [1/1], Step [6000/6471], Loss: 4.3930, Perplexity: 80.8808, Duration: 244.9722843170166\n",
      "Epoch [1/1], Step [6100/6471], Loss: 4.3071, Perplexity: 74.2278, Duration: 246.16668677330017\n",
      "Epoch [1/1], Step [6200/6471], Loss: 4.2303, Perplexity: 68.7355, Duration: 245.46976113319397\n",
      "Epoch [1/1], Step [6300/6471], Loss: 4.6954, Perplexity: 109.4474, Duration: 243.8912491798401\n",
      "Epoch [1/1], Step [6400/6471], Loss: 4.5152, Perplexity: 91.3963, Duration: 245.6664810180664\n",
      "Epoch [1/1], Step [6471/6471], Loss: 4.8886, Perplexity: 132.7686Trainig end time: 2020-03-06 06:16:04.771448\n",
      "Wall time: 7h 14min 51s\n"
     ]
    }
   ],
   "source": [
    "%%time\n",
    "# %cd /content/drive/My Drive/Udacity/2020-02-05 Computer Vision/CVND---Image-Captioning-Project\n",
    "import torch.utils.data as data\n",
    "import numpy as np\n",
    "import os\n",
    "# import requests\n",
    "import time\n",
    "from datetime import datetime\n",
    "\n",
    "# Load pre-trained weights before resuming training.\n",
    "# encoder.load_state_dict(torch.load(os.path.join('./models', encoder_file)))\n",
    "# decoder.load_state_dict(torch.load(os.path.join('./models', decoder_file)))\n",
    "step, epoch_saved, step_saved = 1, 1, 1\n",
    "\n",
    "# Open the training log file.\n",
    "f = open(log_file, 'w')\n",
    "\n",
    "# Print traing start time\n",
    "log = f'Trainig start time: {datetime.now()}'\n",
    "f.write('\\n\\n' + log + '\\n')\n",
    "f.flush()\n",
    "print(log)\n",
    "\n",
    "old_time = time.time()\n",
    "# response = requests.request(\"GET\", \n",
    "#                             \"http://metadata.google.internal/computeMetadata/v1/instance/attributes/keep_alive_token\", \n",
    "#                             headers={\"Metadata-Flavor\":\"Google\"})\n",
    "\n",
    "\n",
    "for epoch in range(epoch_saved, num_epochs+1):\n",
    "\n",
    "    if epoch == epoch_saved:\n",
    "        step == step_saved\n",
    "    else:\n",
    "        step = 1\n",
    "\n",
    "    for i_step in range(step, total_step+1):\n",
    "        \n",
    "        # if time.time() - old_time > 60:\n",
    "        #     old_time = time.time()\n",
    "            # requests.request(\"POST\", \n",
    "            #                  \"https://nebula.udacity.com/api/v1/remote/keep-alive\", \n",
    "            #                  headers={'Authorization': \"STAR \" + response.text})\n",
    "        \n",
    "        # Randomly sample a caption length, and sample indices with that length.\n",
    "        indices = data_loader.dataset.get_train_indices()\n",
    "\n",
    "        # Create and assign a batch sampler to retrieve a batch with the sampled indices.\n",
    "        new_sampler = data.sampler.SubsetRandomSampler(indices=indices)\n",
    "        data_loader.batch_sampler.sampler = new_sampler\n",
    "        \n",
    "        # Obtain the batch.\n",
    "        images, captions = next(iter(data_loader))\n",
    "\n",
    "        # Move batch of images and captions to GPU if CUDA is available.\n",
    "        images = images.to(device)\n",
    "        captions = captions.to(device)\n",
    "        \n",
    "        # Zero the gradients.\n",
    "        decoder.zero_grad()\n",
    "        encoder.zero_grad()\n",
    "        \n",
    "        # Pass the inputs through the CNN-RNN model.\n",
    "        features = encoder(images)\n",
    "        outputs = decoder(features, captions)\n",
    "        \n",
    "        # Calculate the batch loss.\n",
    "        loss = criterion(outputs.view(-1, vocab_size), captions.view(-1))\n",
    "        \n",
    "        # Backward pass.\n",
    "        loss.backward()\n",
    "        \n",
    "        # Update the parameters in the optimizer.\n",
    "        optimizer.step()\n",
    "        \n",
    "\n",
    "        # Get training statistics.\n",
    "        stats = 'Epoch [%d/%d], Step [%d/%d], Loss: %.4f, Perplexity: %5.4f' \\\n",
    "            % (epoch, num_epochs, i_step, total_step, loss.item(), np.exp(loss.item()))\n",
    "        \n",
    "        # Print training statistics (on same line).\n",
    "        print('\\r' + stats, end=\"\")\n",
    "        sys.stdout.flush()\n",
    "        \n",
    "        # Print training statistics to file.\n",
    "        f.write(stats + '\\n')\n",
    "        f.flush()\n",
    "        \n",
    "        # Print training statistics (on different line).\n",
    "        if i_step % print_every == 0:\n",
    "            print('\\r' + stats + f', Duration: {time.time()-old_time}')\n",
    "            old_time = time.time()\n",
    "            \n",
    "        # Save the weights.\n",
    "        if i_step % save_every == 0:\n",
    "            torch.save(decoder.state_dict(), os.path.join('./models', 'decoder-%d.pkl' % epoch))\n",
    "            torch.save(encoder.state_dict(), os.path.join('./models', 'encoder-%d.pkl' % epoch))\n",
    "\n",
    "# Print training end time\n",
    "log = f'Trainig end time: {datetime.now()}'\n",
    "f.write('\\n' + log + '\\n')\n",
    "f.flush()\n",
    "print(log)\n",
    "\n",
    "# Close the training log file.\n",
    "f.close()\n",
    "\n",
    "### Training log example:\n",
    "# Trainig start time: 2020-03-05 23:01:13.299126\n",
    "# Epoch [1/1], Step [100/6471], Loss: 6.9578, Perplexity: 1051.2864, Duration: 380.24107789993286\n",
    "# Epoch [1/1], Step [200/6471], Loss: 6.0694, Perplexity: 432.4316, Duration: 270.2294247150421\n",
    "#             ...\n",
    "# Epoch [1/1], Step [6400/6471], Loss: 4.5152, Perplexity: 91.3963, Duration: 245.6664810180664\n",
    "# Epoch [1/1], Step [6471/6471], Loss: 4.8886, Perplexity: 132.7686\n",
    "# Trainig end time: 2020-03-06 06:16:04.771448\n",
    "# Wall time: 7h 14min 51s (1 epoch)"
   ]
  },
  {
   "cell_type": "markdown",
   "metadata": {
    "colab_type": "text",
    "id": "dI6NPnu2MDn2"
   },
   "source": [
    "<a id='step3'></a>\n",
    "## Step 3: (Optional) Validate your Model\n",
    "\n",
    "To assess potential overfitting, one approach is to assess performance on a validation set.  If you decide to do this **optional** task, you are required to first complete all of the steps in the next notebook in the sequence (**3_Inference.ipynb**); as part of that notebook, you will write and test code (specifically, the `sample` method in the `DecoderRNN` class) that uses your RNN decoder to generate captions.  That code will prove incredibly useful here. \n",
    "\n",
    "If you decide to validate your model, please do not edit the data loader in **data_loader.py**.  Instead, create a new file named **data_loader_val.py** containing the code for obtaining the data loader for the validation data.  You can access:\n",
    "- the validation images at filepath `'/opt/cocoapi/images/train2014/'`, and\n",
    "- the validation image caption annotation file at filepath `'/opt/cocoapi/annotations/captions_val2014.json'`.\n",
    "\n",
    "The suggested approach to validating your model involves creating a json file such as [this one](https://github.com/cocodataset/cocoapi/blob/master/results/captions_val2014_fakecap_results.json) containing your model's predicted captions for the validation images.  Then, you can write your own script or use one that you [find online](https://github.com/tylin/coco-caption) to calculate the BLEU score of your model.  You can read more about the BLEU score, along with other evaluation metrics (such as TEOR and Cider) in section 4.1 of [this paper](https://arxiv.org/pdf/1411.4555.pdf).  For more information about how to use the annotation file, check out the [website](http://cocodataset.org/#download) for the COCO dataset."
   ]
  },
  {
   "cell_type": "code",
   "execution_count": 0,
   "metadata": {
    "colab": {},
    "colab_type": "code",
    "id": "kjnWbLDbMDn3"
   },
   "outputs": [],
   "source": [
    "# (Optional) TODO: Validate your model."
   ]
  },
  {
   "cell_type": "code",
   "execution_count": 0,
   "metadata": {
    "colab": {},
    "colab_type": "code",
    "id": "uWiFhCaa2f5M"
   },
   "outputs": [],
   "source": []
  }
 ],
 "metadata": {
  "accelerator": "GPU",
  "anaconda-cloud": {},
  "colab": {
   "collapsed_sections": [],
   "name": "2_Training.ipynb",
   "provenance": [],
   "toc_visible": true
  },
  "kernelspec": {
   "display_name": "Python 3",
   "language": "python",
   "name": "python3"
  },
  "language_info": {
   "codemirror_mode": {
    "name": "ipython",
    "version": 3
   },
   "file_extension": ".py",
   "mimetype": "text/x-python",
   "name": "python",
   "nbconvert_exporter": "python",
   "pygments_lexer": "ipython3",
   "version": "3.6.10"
  }
 },
 "nbformat": 4,
 "nbformat_minor": 1
}
