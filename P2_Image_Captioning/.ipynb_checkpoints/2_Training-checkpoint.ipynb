{
 "cells": [
  {
   "cell_type": "code",
   "execution_count": 1,
   "metadata": {
    "colab": {},
    "colab_type": "code",
    "id": "TVFHsqCqPPxd"
   },
   "outputs": [],
   "source": [
    "# modified on 2020-02-27"
   ]
  },
  {
   "cell_type": "code",
   "execution_count": 2,
   "metadata": {
    "colab": {},
    "colab_type": "code",
    "id": "mVEPVL2gPWYY"
   },
   "outputs": [],
   "source": [
    "# from google.colab import drive\n",
    "# drive.mount('/content/drive')"
   ]
  },
  {
   "cell_type": "code",
   "execution_count": 3,
   "metadata": {
    "colab": {
     "base_uri": "https://localhost:8080/",
     "height": 35
    },
    "colab_type": "code",
    "executionInfo": {
     "elapsed": 394,
     "status": "ok",
     "timestamp": 1583457520844,
     "user": {
      "displayName": "Wenjing Liu",
      "photoUrl": "https://lh3.googleusercontent.com/a-/AOh14GgX35SpfU5NlXqEK0YQgaqlAm3udJx3EgFu-jBM=s64",
      "userId": "16067106733028664591"
     },
     "user_tz": 360
    },
    "id": "60dwYcD4Kf7c",
    "outputId": "b31e9b60-30b4-4b9f-c3c4-6d9dd5cb1f36"
   },
   "outputs": [
    {
     "data": {
      "text/plain": [
       "True"
      ]
     },
     "execution_count": 3,
     "metadata": {},
     "output_type": "execute_result"
    }
   ],
   "source": [
    "import torch\n",
    "torch.cuda.is_available()"
   ]
  },
  {
   "cell_type": "markdown",
   "metadata": {
    "colab_type": "text",
    "id": "BDfS3DcgMDns"
   },
   "source": [
    "# Computer Vision Nanodegree\n",
    "\n",
    "## Project: Image Captioning\n",
    "\n",
    "---\n",
    "\n",
    "In this notebook, you will train your CNN-RNN model.  \n",
    "\n",
    "You are welcome and encouraged to try out many different architectures and hyperparameters when searching for a good model.\n",
    "\n",
    "This does have the potential to make the project quite messy!  Before submitting your project, make sure that you clean up:\n",
    "- the code you write in this notebook.  The notebook should describe how to train a single CNN-RNN architecture, corresponding to your final choice of hyperparameters.  You should structure the notebook so that the reviewer can replicate your results by running the code in this notebook.  \n",
    "- the output of the code cell in **Step 2**.  The output should show the output obtained when training the model from scratch.\n",
    "\n",
    "This notebook **will be graded**.  \n",
    "\n",
    "Feel free to use the links below to navigate the notebook:\n",
    "- [Step 1](#step1): Training Setup\n",
    "- [Step 2](#step2): Train your Model\n",
    "- [Step 3](#step3): (Optional) Validate your Model"
   ]
  },
  {
   "cell_type": "markdown",
   "metadata": {
    "colab_type": "text",
    "id": "Lz3ETUbpMDnu"
   },
   "source": [
    "<a id='step1'></a>\n",
    "## Step 1: Training Setup\n",
    "\n",
    "In this step of the notebook, you will customize the training of your CNN-RNN model by specifying hyperparameters and setting other options that are important to the training procedure.  The values you set now will be used when training your model in **Step 2** below.\n",
    "\n",
    "You should only amend blocks of code that are preceded by a `TODO` statement.  **Any code blocks that are not preceded by a `TODO` statement should not be modified**.\n",
    "\n",
    "### Task #1\n",
    "\n",
    "Begin by setting the following variables:\n",
    "- `batch_size` - the batch size of each training batch.  It is the number of image-caption pairs used to amend the model weights in each training step. \n",
    "- `vocab_threshold` - the minimum word count threshold.  Note that a larger threshold will result in a smaller vocabulary, whereas a smaller threshold will include rarer words and result in a larger vocabulary.  \n",
    "- `vocab_from_file` - a Boolean that decides whether to load the vocabulary from file. \n",
    "- `embed_size` - the dimensionality of the image and word embeddings.  \n",
    "- `hidden_size` - the number of features in the hidden state of the RNN decoder.  \n",
    "- `num_epochs` - the number of epochs to train the model.  We recommend that you set `num_epochs=3`, but feel free to increase or decrease this number as you wish.  [This paper](https://arxiv.org/pdf/1502.03044.pdf) trained a captioning model on a single state-of-the-art GPU for 3 days, but you'll soon see that you can get reasonable results in a matter of a few hours!  (_But of course, if you want your model to compete with current research, you will have to train for much longer._)\n",
    "- `save_every` - determines how often to save the model weights.  We recommend that you set `save_every=1`, to save the model weights after each epoch.  This way, after the `i`th epoch, the encoder and decoder weights will be saved in the `models/` folder as `encoder-i.pkl` and `decoder-i.pkl`, respectively.\n",
    "- `print_every` - determines how often to print the batch loss to the Jupyter notebook while training.  Note that you **will not** observe a monotonic decrease in the loss function while training - this is perfectly fine and completely expected!  You are encouraged to keep this at its default value of `100` to avoid clogging the notebook, but feel free to change it.\n",
    "- `log_file` - the name of the text file containing - for every step - how the loss and perplexity evolved during training.\n",
    "\n",
    "If you're not sure where to begin to set some of the values above, you can peruse [this paper](https://arxiv.org/pdf/1502.03044.pdf) and [this paper](https://arxiv.org/pdf/1411.4555.pdf) for useful guidance!  **To avoid spending too long on this notebook**, you are encouraged to consult these suggested research papers to obtain a strong initial guess for which hyperparameters are likely to work best.  Then, train a single model, and proceed to the next notebook (**3_Inference.ipynb**).  If you are unhappy with your performance, you can return to this notebook to tweak the hyperparameters (and/or the architecture in **model.py**) and re-train your model.\n",
    "\n",
    "### Question 1\n",
    "\n",
    "**Question:** Describe your CNN-RNN architecture in detail. With this architecture in mind, how did you select the values of the variables in Task 1?  If you consulted a research paper detailing a successful implementation of an image captioning model, please provide the reference.\n",
    "\n",
    "**Answer:** \n",
    "1. The encoder is pretrained ResNet50 which can classify images into 1000 object categories. The decoder is a LTSM.\n",
    "2. The top fully connected layer of ResNet50 is replace by a linear layer to generate features of images with proper shape.\n",
    "3. For the decoder, an embedding layer is used to convert captions to embeddings. To avoid overfitting, a dropout layer is attached to the embedding layer. Then there are a LSTM layer, a linear layer that converts the LSTM output to proper shape, and a log softmax layer that regulates the output.\n",
    "4. For parameters I referred to Chapter 4.3.1 Training Details of this paper (https://arxiv.org/pdf/1411.4555.pdf): \"We trained all sets of weights using stochastic gradient descent with fixed learning rate and no momentum. All weights were randomly initialized except for the CNN weights, which we left unchanged because changing them had a negative impact. We used 512 dimensions for the embeddings and the size of the LSTM memory. Descriptions were preprocessed with basic tokenization, keeping all words that appeared at least 5 times in the training set.\"\n",
    "\n",
    "\n",
    "### (Optional) Task #2\n",
    "\n",
    "Note that we have provided a recommended image transform `transform_train` for pre-processing the training images, but you are welcome (and encouraged!) to modify it as you wish.  When modifying this transform, keep in mind that:\n",
    "- the images in the dataset have varying heights and widths, and \n",
    "- if using a pre-trained model, you must perform the corresponding appropriate normalization.\n",
    "\n",
    "### Question 2\n",
    "\n",
    "**Question:** How did you select the transform in `transform_train`?  If you left the transform at its provided value, why do you think that it is a good choice for your CNN architecture?\n",
    "\n",
    "**Answer:** Transform functions are usually used to reshape the images to fit to the input size of the model, to normalize the images to get better performance, to randomize data to prevent overfitting. \n",
    "\n",
    "### Task #3\n",
    "\n",
    "Next, you will specify a Python list containing the learnable parameters of the model.  For instance, if you decide to make all weights in the decoder trainable, but only want to train the weights in the embedding layer of the encoder, then you should set `params` to something like:\n",
    "```\n",
    "params = list(decoder.parameters()) + list(encoder.embed.parameters()) \n",
    "```\n",
    "\n",
    "### Question 3\n",
    "\n",
    "**Question:** How did you select the trainable parameters of your architecture?  Why do you think this is a good choice?\n",
    "\n",
    "**Answer:** I chose to train all parameters of the decoder and only the parameters of the embedding layer of the encoder. Cause the encoder is pretrained ResNet50, which doesn't require more training. However the whole decoder needs to be trained to generate sequences for image features.\n",
    "\n",
    "### Task #4\n",
    "\n",
    "Finally, you will select an [optimizer](http://pytorch.org/docs/master/optim.html#torch.optim.Optimizer).\n",
    "\n",
    "### Question 4\n",
    "\n",
    "**Question:** How did you select the optimizer used to train your model?\n",
    "\n",
    "**Answer:** At first I used SGD with a fixed learning rate, because SGD usually performs well, also the paper that I referred to used SGD too. I noticed the fracturations of the loss values would increase a little as the training time increased. So I decided to try Adam optimizer (maybe I could use SGD with momentum as well). It turned out Adam reduced loss much faster than SGD in this case. \n",
    "\n",
    "**Intro to optimization in deep learning: Momentum, RMSProp and Adam**    \n",
    "AYOOSH KATHURIA, 13 JUN 2018 • 10 MIN READ    \n",
    "https://blog.paperspace.com/intro-to-optimization-momentum-rmsprop-adam/\n",
    "```\n",
    "Empirical results have shown the all these algorithms can converge to different optimal local minima given the same loss. However, SGD with momentum seems to find more flatter minima than Adam, while adaptive methods tend to converge quickly towards sharper minima. Flatter minima generalize better than sharper ones.Jun 13, 2018\n",
    "```\n",
    "\n",
    "**ICLR 2019 | ‘Fast as Adam & Good as SGD’ — New Optimizer Has Both**     \n",
    "Synced, Mar 7, 2019 · 5 min read   \n",
    "https://medium.com/syncedreview/iclr-2019-fast-as-adam-good-as-sgd-new-optimizer-has-both-78e37e8f9a34"
   ]
  },
  {
   "cell_type": "markdown",
   "metadata": {
    "colab_type": "text",
    "id": "I1EDlHwaRLFo"
   },
   "source": [
    "1. Show, Attend and Tell: Neural Image Caption Generation with Visual Attention    \n",
    "https://arxiv.org/pdf/1502.03044.pdf    \n",
    "\n",
    "2. NLP FROM SCRATCH: TRANSLATION WITH A SEQUENCE TO SEQUENCE NETWORK AND ATTENTIO  \n",
    "https://pytorch.org/tutorials/intermediate/seq2seq_translation_tutorial.html   \n"
   ]
  },
  {
   "cell_type": "code",
   "execution_count": 4,
   "metadata": {
    "colab": {
     "base_uri": "https://localhost:8080/",
     "height": 193
    },
    "colab_type": "code",
    "executionInfo": {
     "elapsed": 50292,
     "status": "ok",
     "timestamp": 1583453470055,
     "user": {
      "displayName": "Wenjing Liu",
      "photoUrl": "https://lh3.googleusercontent.com/a-/AOh14GgX35SpfU5NlXqEK0YQgaqlAm3udJx3EgFu-jBM=s64",
      "userId": "16067106733028664591"
     },
     "user_tz": 360
    },
    "id": "He86tJGxMDnv",
    "outputId": "850b68c5-1ecf-4e19-9ebc-4b81c5922286"
   },
   "outputs": [
    {
     "name": "stderr",
     "output_type": "stream",
     "text": [
      "[nltk_data] Downloading package punkt to\n",
      "[nltk_data]     C:\\Users\\guido\\AppData\\Roaming\\nltk_data...\n",
      "[nltk_data]   Package punkt is already up-to-date!\n"
     ]
    },
    {
     "name": "stdout",
     "output_type": "stream",
     "text": [
      "Vocabulary successfully loaded from vocab.pkl file!\n",
      "loading annotations into memory...\n",
      "Done (t=0.67s)\n",
      "creating index...\n"
     ]
    },
    {
     "name": "stderr",
     "output_type": "stream",
     "text": [
      "  0%|                                                                           | 604/414113 [00:00<01:08, 5994.44it/s]"
     ]
    },
    {
     "name": "stdout",
     "output_type": "stream",
     "text": [
      "index created!\n",
      "Obtaining caption lengths...\n"
     ]
    },
    {
     "name": "stderr",
     "output_type": "stream",
     "text": [
      "100%|████████████████████████████████████████████████████████████████████████| 414113/414113 [00:42<00:00, 9728.58it/s]\n"
     ]
    },
    {
     "name": "stdout",
     "output_type": "stream",
     "text": [
      "Vocab_size: 8856\n"
     ]
    }
   ],
   "source": [
    "# %cd /content/drive/My Drive/Udacity/2020-02-05 Computer Vision/CVND---Image-Captioning-Project\n",
    "import torch\n",
    "import torch.nn as nn\n",
    "import torch.optim as optim\n",
    "from torchvision import transforms\n",
    "import sys\n",
    "# sys.path.append('/opt/cocoapi/PythonAPI')                         # Linux\n",
    "# sys.path.append('/content/drive/My Drive/data/cocoapi/PythonAPI') # Google Colab\n",
    "sys.path.append('D:\\data\\cocoapi\\PythonAPI')                        # Windows\n",
    "from pycocotools.coco import COCO\n",
    "from data_loader import get_loader\n",
    "import math\n",
    "import nltk\n",
    "nltk.download('punkt')\n",
    "\n",
    "\n",
    "## TODO #1: Select appropriate values for the Python variables below.\n",
    "batch_size = 64            # batch size\n",
    "vocab_threshold = 5        # minimum word count threshold\n",
    "vocab_from_file = True     # if True, load existing vocab file\n",
    "embed_size = 256           # dimensionality of image and word embeddings\n",
    "hidden_size = 512          # number of features in hidden state of the RNN decoder\n",
    "log_file = 'training_log.txt'      # name of file with saved training loss and perplexity\n",
    "# cocoapi_loc = '/content/drive/My Drive/data' # Google Colab\n",
    "cocoapi_loc = 'D:\\data' # Windows\n",
    "\n",
    "# (Optional) TODO #2: Amend the image transform below.\n",
    "transform_train = transforms.Compose([ \n",
    "    transforms.Resize(256),                          # smaller edge of image resized to 256\n",
    "    transforms.RandomCrop(224),                      # get 224x224 crop from random location\n",
    "    transforms.RandomHorizontalFlip(),               # horizontally flip image with probability=0.5\n",
    "    transforms.ToTensor(),                           # convert the PIL Image to a tensor\n",
    "    transforms.Normalize((0.485, 0.456, 0.406),      # normalize image for pre-trained model\n",
    "                         (0.229, 0.224, 0.225))])\n",
    "\n",
    "# Build data loader.\n",
    "data_loader = get_loader(transform=transform_train,\n",
    "                         mode='train',\n",
    "                         batch_size=batch_size,\n",
    "                         vocab_threshold=vocab_threshold,\n",
    "                         vocab_from_file=vocab_from_file,\n",
    "                         cocoapi_loc=cocoapi_loc)\n",
    "\n",
    "# The size of the vocabulary.\n",
    "vocab_size = len(data_loader.dataset.vocab)\n",
    "print(f'Vocab_size: {vocab_size}')\n",
    "\n",
    "# Set the total number of training steps per epoch.\n",
    "# 6471 = ceil(414113 / 64)\n",
    "total_step = math.ceil(len(data_loader.dataset.caption_lengths) / data_loader.batch_sampler.batch_size)"
   ]
  },
  {
   "cell_type": "code",
   "execution_count": 5,
   "metadata": {},
   "outputs": [],
   "source": [
    "# Watch for any changes in model.py, and re-load it automatically.\n",
    "# %load_ext autoreload\n",
    "# %autoreload 2\n",
    "from model import EncoderCNN, DecoderRNN\n",
    "\n",
    "# Initialize the encoder and decoder. \n",
    "encoder = EncoderCNN(embed_size)\n",
    "decoder = DecoderRNN(embed_size, hidden_size, vocab_size)\n",
    "\n",
    "# Move models to GPU if CUDA is available. \n",
    "device = torch.device(\"cuda\" if torch.cuda.is_available() else \"cpu\")\n",
    "encoder.to(device)\n",
    "decoder.to(device)\n",
    "\n",
    "# Define the loss function. \n",
    "criterion = nn.CrossEntropyLoss().cuda() if torch.cuda.is_available() else nn.CrossEntropyLoss()\n",
    "\n",
    "# TODO #3: Specify the learnable parameters of the model.\n",
    "params = list(decoder.parameters()) + list(encoder.embed.parameters()) \n",
    "\n",
    "# TODO #4: Define the optimizer.\n",
    "# optimizer = optim.SGD(params=params, lr=0.1)\n",
    "optimizer = optim.Adam(params=params, lr=0.001)"
   ]
  },
  {
   "cell_type": "markdown",
   "metadata": {
    "colab_type": "text",
    "id": "Pk6UD2TpMDny"
   },
   "source": [
    "<a id='step2'></a>\n",
    "## Step 2: Train your Model\n",
    "\n",
    "Once you have executed the code cell in **Step 1**, the training procedure below should run without issue.  \n",
    "\n",
    "It is completely fine to leave the code cell below as-is without modifications to train your model.  However, if you would like to modify the code used to train the model below, you must ensure that your changes are easily parsed by your reviewer.  In other words, make sure to provide appropriate comments to describe how your code works!  \n",
    "\n",
    "You may find it useful to load saved weights to resume training.  In that case, note the names of the files containing the encoder and decoder weights that you'd like to load (`encoder_file` and `decoder_file`).  Then you can load the weights by using the lines below:\n",
    "\n",
    "```python\n",
    "# Load pre-trained weights before resuming training.\n",
    "encoder.load_state_dict(torch.load(os.path.join('./models', encoder_file)))\n",
    "decoder.load_state_dict(torch.load(os.path.join('./models', decoder_file)))\n",
    "```\n",
    "\n",
    "While trying out parameters, make sure to take extensive notes and record the settings that you used in your various training runs.  In particular, you don't want to encounter a situation where you've trained a model for several hours but can't remember what settings you used :).\n",
    "\n",
    "### A Note on Tuning Hyperparameters\n",
    "\n",
    "To figure out how well your model is doing, you can look at how the training loss and perplexity evolve during training - and for the purposes of this project, you are encouraged to amend the hyperparameters based on this information.  \n",
    "\n",
    "However, this will not tell you if your model is overfitting to the training data, and, unfortunately, overfitting is a problem that is commonly encountered when training image captioning models.  \n",
    "\n",
    "For this project, you need not worry about overfitting. **This project does not have strict requirements regarding the performance of your model**, and you just need to demonstrate that your model has learned **_something_** when you generate captions on the test data.  For now, we strongly encourage you to train your model for the suggested 3 epochs without worrying about performance; then, you should immediately transition to the next notebook in the sequence (**3_Inference.ipynb**) to see how your model performs on the test data.  If your model needs to be changed, you can come back to this notebook, amend hyperparameters (if necessary), and re-train the model.\n",
    "\n",
    "That said, if you would like to go above and beyond in this project, you can read about some approaches to minimizing overfitting in section 4.3.1 of [this paper](http://ieeexplore.ieee.org/stamp/stamp.jsp?arnumber=7505636).  In the next (optional) step of this notebook, we provide some guidance for assessing the performance on the validation dataset."
   ]
  },
  {
   "cell_type": "code",
   "execution_count": null,
   "metadata": {
    "colab": {
     "base_uri": "https://localhost:8080/",
     "height": 440
    },
    "colab_type": "code",
    "executionInfo": {
     "elapsed": 2695,
     "status": "error",
     "timestamp": 1583457367642,
     "user": {
      "displayName": "Wenjing Liu",
      "photoUrl": "https://lh3.googleusercontent.com/a-/AOh14GgX35SpfU5NlXqEK0YQgaqlAm3udJx3EgFu-jBM=s64",
      "userId": "16067106733028664591"
     },
     "user_tz": 360
    },
    "id": "cMxOLX4BMDnz",
    "outputId": "1debb9e5-f1f7-4758-da70-5e6e3d6007f6"
   },
   "outputs": [
    {
     "name": "stdout",
     "output_type": "stream",
     "text": [
      "Trainig start time: 2020-03-06 23:30:51.735168\n",
      "Epoch [1/3], Step [200/6471], Loss: 3.7007, Perplexity: 40.4765, Duration: 747.1833205223083\n",
      "Epoch [1/3], Step [400/6471], Loss: 3.2982, Perplexity: 27.0634, Duration: 978.7570240497589\n",
      "Epoch [1/3], Step [600/6471], Loss: 3.0451, Perplexity: 21.0119, Duration: 575.8435213565826\n",
      "Epoch [1/3], Step [800/6471], Loss: 3.1599, Perplexity: 23.5675, Duration: 769.6332187652588\n",
      "Epoch [1/3], Step [1000/6471], Loss: 2.5196, Perplexity: 12.4240, Duration: 556.724622964859\n",
      "Epoch [1/3], Step [1200/6471], Loss: 2.7133, Perplexity: 15.0786, Duration: 857.5059566497803\n",
      "Epoch [1/3], Step [1400/6471], Loss: 2.7029, Perplexity: 14.9236, Duration: 774.1253085136414\n",
      "Epoch [1/3], Step [1600/6471], Loss: 2.4422, Perplexity: 11.4985, Duration: 530.4623630046844\n",
      "Epoch [1/3], Step [1800/6471], Loss: 2.5416, Perplexity: 12.7000, Duration: 514.8545520305634\n",
      "Epoch [1/3], Step [2000/6471], Loss: 2.4678, Perplexity: 11.7968, Duration: 496.0707573890686\n",
      "Epoch [1/3], Step [2200/6471], Loss: 2.3254, Perplexity: 10.2308, Duration: 515.9857919216156\n",
      "Epoch [1/3], Step [2400/6471], Loss: 2.3327, Perplexity: 10.3055, Duration: 520.2304964065552\n",
      "Epoch [1/3], Step [2600/6471], Loss: 3.2806, Perplexity: 26.5912, Duration: 506.04306864738464\n",
      "Epoch [1/3], Step [2800/6471], Loss: 2.3267, Perplexity: 10.2446, Duration: 1014.6375684738159\n",
      "Epoch [1/3], Step [2834/6471], Loss: 2.3864, Perplexity: 10.8743"
     ]
    }
   ],
   "source": [
    "%%time\n",
    "# %cd /content/drive/My Drive/Udacity/2020-02-05 Computer Vision/CVND---Image-Captioning-Project\n",
    "import torch.utils.data as data\n",
    "import numpy as np\n",
    "import os\n",
    "# import requests\n",
    "import time\n",
    "from datetime import datetime\n",
    "\n",
    "num_epochs = 3             # number of training epochs\n",
    "save_every = 2000           # determines frequency of saving model weights\n",
    "print_every = 200          # determines window for printing average loss\n",
    "\n",
    "### Load pre-trained weights before resuming training.\n",
    "# encoder.load_state_dict(torch.load(os.path.join('./models', encoder_file)))\n",
    "# decoder.load_state_dict(torch.load(os.path.join('./models', decoder_file)))\n",
    "step, epoch_saved, step_saved = 1, 1, 1\n",
    "\n",
    "# Open the training log file.\n",
    "f = open(log_file, 'a+')\n",
    "\n",
    "# Print traing start time\n",
    "log = f'Trainig start time: {datetime.now()}'\n",
    "f.write('\\n\\n' + log + '\\n')\n",
    "f.flush()\n",
    "print(log)\n",
    "\n",
    "old_time = time.time()\n",
    "# response = requests.request(\"GET\", \n",
    "#                             \"http://metadata.google.internal/computeMetadata/v1/instance/attributes/keep_alive_token\", \n",
    "#                             headers={\"Metadata-Flavor\":\"Google\"})\n",
    "\n",
    "\n",
    "for epoch in range(epoch_saved, num_epochs+1):\n",
    "\n",
    "    if epoch == epoch_saved:\n",
    "        step == step_saved\n",
    "    else:\n",
    "        step = 1\n",
    "\n",
    "    for i_step in range(step, total_step+1):\n",
    "        \n",
    "        # if time.time() - old_time > 60:\n",
    "        #     old_time = time.time()\n",
    "            # requests.request(\"POST\", \n",
    "            #                  \"https://nebula.udacity.com/api/v1/remote/keep-alive\", \n",
    "            #                  headers={'Authorization': \"STAR \" + response.text})\n",
    "        \n",
    "        # Randomly sample a caption length, and sample indices with that length.\n",
    "        indices = data_loader.dataset.get_train_indices()\n",
    "\n",
    "        # Create and assign a batch sampler to retrieve a batch with the sampled indices.\n",
    "        new_sampler = data.sampler.SubsetRandomSampler(indices=indices)\n",
    "        data_loader.batch_sampler.sampler = new_sampler\n",
    "        \n",
    "        # Obtain the batch.\n",
    "        images, captions = next(iter(data_loader))\n",
    "\n",
    "        # Move batch of images and captions to GPU if CUDA is available.\n",
    "        images = images.to(device)\n",
    "        captions = captions.to(device)\n",
    "        \n",
    "        # Zero the gradients.\n",
    "        decoder.zero_grad()\n",
    "        encoder.zero_grad()\n",
    "        \n",
    "        # Pass the inputs through the CNN-RNN model.\n",
    "        features = encoder(images)\n",
    "        outputs = decoder(features, captions)\n",
    "        \n",
    "        # Calculate the batch loss.\n",
    "        loss = criterion(outputs.view(-1, vocab_size), captions.view(-1))\n",
    "        \n",
    "        # Backward pass.\n",
    "        loss.backward()\n",
    "        \n",
    "        # Update the parameters in the optimizer.\n",
    "        optimizer.step()\n",
    "        \n",
    "\n",
    "        # Get training statistics.\n",
    "        stats = 'Epoch [%d/%d], Step [%d/%d], Loss: %.4f, Perplexity: %5.4f' \\\n",
    "            % (epoch, num_epochs, i_step, total_step, loss.item(), np.exp(loss.item()))\n",
    "        \n",
    "        # Print training statistics (on same line).\n",
    "        print('\\r' + stats, end=\"\")\n",
    "        sys.stdout.flush()\n",
    "        \n",
    "        # Print training statistics to file.\n",
    "        f.write(stats + '\\n')\n",
    "        f.flush()\n",
    "        \n",
    "        # Print training statistics (on different line).\n",
    "        if i_step % print_every == 0:\n",
    "            print('\\r' + stats + f', Duration: {time.time()-old_time}')\n",
    "            old_time = time.time()\n",
    "            \n",
    "        # Save the weights.\n",
    "        if i_step % save_every == 0:\n",
    "            torch.save(decoder.state_dict(), os.path.join('./models', 'decoder-%d-%d.pkl' % (epoch, i_step)))\n",
    "            torch.save(encoder.state_dict(), os.path.join('./models', 'encoder-%d-%d.pkl' % (epoch, i_step)))\n",
    "\n",
    "# Print training end time\n",
    "log = f'Trainig end time: {datetime.now()}'\n",
    "f.write('\\n' + log + '\\n')\n",
    "f.flush()\n",
    "print(log)\n",
    "\n",
    "# Close the training log file.\n",
    "f.close()\n",
    "\n",
    "### Training log example:\n",
    "# Trainig start time: 2020-03-05 23:01:13.299126\n",
    "# Epoch [1/1], Step [100/6471], Loss: 6.9578, Perplexity: 1051.2864, Duration: 380.24107789993286\n",
    "# Epoch [1/1], Step [200/6471], Loss: 6.0694, Perplexity: 432.4316, Duration: 270.2294247150421\n",
    "#             ...\n",
    "# Epoch [1/1], Step [6400/6471], Loss: 4.5152, Perplexity: 91.3963, Duration: 245.6664810180664\n",
    "# Epoch [1/1], Step [6471/6471], Loss: 4.8886, Perplexity: 132.7686\n",
    "# Trainig end time: 2020-03-06 06:16:04.771448\n",
    "# Wall time: 7h 14min 51s (1 epoch)"
   ]
  },
  {
   "cell_type": "markdown",
   "metadata": {
    "colab_type": "text",
    "id": "dI6NPnu2MDn2"
   },
   "source": [
    "<a id='step3'></a>\n",
    "## Step 3: (Optional) Validate your Model\n",
    "\n",
    "To assess potential overfitting, one approach is to assess performance on a validation set.  If you decide to do this **optional** task, you are required to first complete all of the steps in the next notebook in the sequence (**3_Inference.ipynb**); as part of that notebook, you will write and test code (specifically, the `sample` method in the `DecoderRNN` class) that uses your RNN decoder to generate captions.  That code will prove incredibly useful here. \n",
    "\n",
    "If you decide to validate your model, please do not edit the data loader in **data_loader.py**.  Instead, create a new file named **data_loader_val.py** containing the code for obtaining the data loader for the validation data.  You can access:\n",
    "- the validation images at filepath `'/opt/cocoapi/images/val2014/'`, and\n",
    "- the validation image caption annotation file at filepath `'/opt/cocoapi/annotations/captions_val2014.json'`.\n",
    "\n",
    "The suggested approach to validating your model involves creating a json file such as [this one](https://github.com/cocodataset/cocoapi/blob/master/results/captions_val2014_fakecap_results.json) containing your model's predicted captions for the validation images.  Then, you can write your own script or use one that you [find online](https://github.com/tylin/coco-caption) to calculate the BLEU score of your model.  You can read more about the BLEU score, along with other evaluation metrics (such as TEOR and Cider) in section 4.1 of [this paper](https://arxiv.org/pdf/1411.4555.pdf).  For more information about how to use the annotation file, check out the [website](http://cocodataset.org/#download) for the COCO dataset."
   ]
  },
  {
   "cell_type": "code",
   "execution_count": null,
   "metadata": {
    "colab": {},
    "colab_type": "code",
    "id": "kjnWbLDbMDn3"
   },
   "outputs": [],
   "source": [
    "# (Optional) TODO: Validate your model."
   ]
  }
 ],
 "metadata": {
  "accelerator": "GPU",
  "anaconda-cloud": {},
  "colab": {
   "collapsed_sections": [],
   "name": "2_Training.ipynb",
   "provenance": [],
   "toc_visible": true
  },
  "kernelspec": {
   "display_name": "Python 3",
   "language": "python",
   "name": "python3"
  },
  "language_info": {
   "codemirror_mode": {
    "name": "ipython",
    "version": 3
   },
   "file_extension": ".py",
   "mimetype": "text/x-python",
   "name": "python",
   "nbconvert_exporter": "python",
   "pygments_lexer": "ipython3",
   "version": "3.6.10"
  }
 },
 "nbformat": 4,
 "nbformat_minor": 1
}
